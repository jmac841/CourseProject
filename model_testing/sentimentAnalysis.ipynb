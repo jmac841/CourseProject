{
  "cells": [
    {
      "cell_type": "code",
      "execution_count": 1,
      "metadata": {
        "colab": {
          "base_uri": "https://localhost:8080/"
        },
        "id": "ePB5r7CkDso2",
        "outputId": "628bddcb-71c3-46ad-a6e7-aa2492c124c2"
      },
      "outputs": [
        {
          "name": "stdout",
          "output_type": "stream",
          "text": [
            "Looking in indexes: https://pypi.org/simple, https://us-python.pkg.dev/colab-wheels/public/simple/\n",
            "Requirement already satisfied: torch in /usr/local/lib/python3.7/dist-packages (1.12.1+cu113)\n",
            "Requirement already satisfied: typing-extensions in /usr/local/lib/python3.7/dist-packages (from torch) (4.1.1)\n"
          ]
        }
      ],
      "source": [
        "!pip3 install torch\n",
        "!pip3 install -q transformers"
      ]
    },
    {
      "cell_type": "code",
      "execution_count": 2,
      "metadata": {
        "id": "cEcGrmyEJ_Ze"
      },
      "outputs": [],
      "source": [
        "import os\n",
        "import json\n",
        "import gzip\n",
        "import pandas as pd\n",
        "from sklearn.metrics import precision_score, recall_score, f1_score, accuracy_score\n",
        "from transformers import pipeline"
      ]
    },
    {
      "cell_type": "code",
      "execution_count": 3,
      "metadata": {
        "id": "Ucw20_lID6-7"
      },
      "outputs": [],
      "source": [
        "distilbert = pipeline(\"sentiment-analysis\",model=\"distilbert-base-uncased-finetuned-sst-2-english\") # https://huggingface.co/distilbert-base-uncased-finetuned-sst-2-english?text=I+like+you.+I+love+you\n",
        "roberta = pipeline(\"sentiment-analysis\",model=\"siebert/sentiment-roberta-large-english\") # https://huggingface.co/siebert/sentiment-roberta-large-english?text=I+like+you.+I+love+you\n",
        "bert_mlm = pipeline(\"sentiment-analysis\",model=\"Seethal/sentiment_analysis_generic_dataset\") # https://huggingface.co/Seethal/sentiment_analysis_generic_dataset?text=I+like+you.+I+love+you\n",
        "bert_twitter = pipeline(\"sentiment-analysis\",model=\"cardiffnlp/twitter-roberta-base-sentiment\") # https://huggingface.co/cardiffnlp/twitter-roberta-base-sentiment?text=I+like+you.+I+love+you"
      ]
    },
    {
      "cell_type": "code",
      "execution_count": 4,
      "metadata": {
        "colab": {
          "base_uri": "https://localhost:8080/"
        },
        "id": "7Ebufk1OWIMf",
        "outputId": "8ed8cffd-178c-450e-aef3-0a0fcc126b21"
      },
      "outputs": [
        {
          "name": "stdout",
          "output_type": "stream",
          "text": [
            "1324753\n"
          ]
        }
      ],
      "source": [
        "# load data\n",
        "# https://colab.research.google.com/drive/1Zv6MARGQcrBbLHyjPVVMZVnRWsRnVMpV#scrollTo=7igYuRaV4bF7\n",
        "data = []\n",
        "with gzip.open('reviews_Video_Games.json.gz') as f:\n",
        "    for l in f:\n",
        "        data.append(json.loads(l.strip()))\n",
        "    \n",
        "print(len(data))"
      ]
    },
    {
      "cell_type": "code",
      "execution_count": 5,
      "metadata": {
        "colab": {
          "base_uri": "https://localhost:8080/"
        },
        "id": "9J0nBGL5rzua",
        "outputId": "560339a1-ea94-43a2-a198-1054b3f55473"
      },
      "outputs": [
        {
          "name": "stdout",
          "output_type": "stream",
          "text": [
            "POSITIVE    970030\n",
            "NEGATIVE    230353\n",
            "NEUTRAL     124370\n",
            "Name: overall, dtype: int64\n"
          ]
        }
      ],
      "source": [
        "df = pd.DataFrame.from_dict(data)\n",
        "df.loc[df['overall'] == 5.0, 'overall'] = 'POSITIVE'\n",
        "df.loc[df['overall'] == 4.0, 'overall'] = 'POSITIVE'\n",
        "df.loc[df['overall'] == 3.0, 'overall'] = 'NEUTRAL'\n",
        "df.loc[df['overall'] == 2.0, 'overall'] = 'NEGATIVE'\n",
        "df.loc[df['overall'] == 1.0, 'overall'] = 'NEGATIVE'\n",
        "\n",
        "print(df['overall'].value_counts())"
      ]
    },
    {
      "cell_type": "code",
      "execution_count": 6,
      "metadata": {
        "colab": {
          "base_uri": "https://localhost:8080/"
        },
        "id": "yROq5AxytWSK",
        "outputId": "da18250e-eb5c-4472-d16f-7ea62beef8f0"
      },
      "outputs": [
        {
          "name": "stdout",
          "output_type": "stream",
          "text": [
            "POSITIVE    1094400\n",
            "NEGATIVE     230353\n",
            "Name: overall, dtype: int64\n"
          ]
        }
      ],
      "source": [
        "df_no_neutral = df.copy()\n",
        "df_no_neutral.loc[df_no_neutral['overall'] == 'NEUTRAL', 'overall'] = 'POSITIVE'\n",
        "print(df_no_neutral['overall'].value_counts())"
      ]
    },
    {
      "cell_type": "code",
      "execution_count": 7,
      "metadata": {
        "colab": {
          "base_uri": "https://localhost:8080/"
        },
        "id": "58bYJDzgd-bM",
        "outputId": "42b73528-953d-462e-b06a-734266827862"
      },
      "outputs": [
        {
          "name": "stdout",
          "output_type": "stream",
          "text": [
            "POSITIVE    330\n",
            "NEGATIVE    119\n",
            "NEUTRAL      51\n",
            "Name: overall, dtype: int64\n",
            "POSITIVE    381\n",
            "NEGATIVE    119\n",
            "Name: overall, dtype: int64\n"
          ]
        }
      ],
      "source": [
        "label_to_class = {\n",
        "  'LABEL_2': 'POSITIVE',\n",
        "  'LABEL_1': 'NEUTRAL',\n",
        "  'LABEL_0': 'NEGATIVE',\n",
        "}\n",
        "size = 500\n",
        "df_test = df[:size]\n",
        "df_no_neutral_test = df_no_neutral[:size]\n",
        "\n",
        "print(df_test['overall'].value_counts())\n",
        "print(df_no_neutral_test['overall'].value_counts())"
      ]
    },
    {
      "cell_type": "code",
      "execution_count": 8,
      "metadata": {
        "id": "UJfiA_RDx1fD"
      },
      "outputs": [],
      "source": [
        "def score_model(preds, labels, is_binary):\n",
        "  score_params = ['binary', 'POSITIVE'] if is_binary else ['macro', None]\n",
        "\n",
        "  prec = precision_score(preds, labels, average=score_params[0], pos_label=score_params[1])\n",
        "  rec = recall_score(preds, labels, average=score_params[0], pos_label=score_params[1]) \n",
        "  f1 = f1_score(preds, labels, average=score_params[0], pos_label=score_params[1])\n",
        "  acc = accuracy_score(preds, labels)\n",
        "\n",
        "  print('Precision: ' + str(prec))\n",
        "  print('Recall: ' + str(rec))\n",
        "  print('F1: ' + str(f1))\n",
        "  print('Accuracy: ' + str(acc * 100) + '%')\n",
        "\n",
        "\n",
        "def test_model(model, data, is_binary=True, convert_label=False):\n",
        "  input = data.loc[:,'reviewText'].values.tolist()\n",
        "  labels = data.loc[:,'overall'].values.tolist()\n",
        "\n",
        "  tokenizer_kwargs = {'truncation':True, 'max_length':512}\n",
        "  scores = model(input[:size], **tokenizer_kwargs)\n",
        "\n",
        "  if convert_label:\n",
        "    preds = list(map(lambda x: label_to_class[x['label']], scores))\n",
        "  else:\n",
        "    preds = list(map(lambda x: x['label'], scores))\n",
        "    \n",
        "  score_model(preds, labels, is_binary)\n",
        "  return scores\n"
      ]
    },
    {
      "cell_type": "code",
      "execution_count": 9,
      "metadata": {
        "colab": {
          "base_uri": "https://localhost:8080/"
        },
        "id": "s4IzOlq0G0J4",
        "outputId": "c645fcfb-a5cd-4d92-df55-fc3e9a03dc35"
      },
      "outputs": [
        {
          "name": "stdout",
          "output_type": "stream",
          "text": [
            "DistilBERT:\n",
            "Precision: 0.7191601049868767\n",
            "Recall: 0.958041958041958\n",
            "F1: 0.8215892053973014\n",
            "Accuracy: 76.2%\n"
          ]
        }
      ],
      "source": [
        "print('DistilBERT:')\n",
        "distil_results = test_model(distilbert, df_no_neutral_test)"
      ]
    },
    {
      "cell_type": "code",
      "execution_count": 10,
      "metadata": {
        "colab": {
          "base_uri": "https://localhost:8080/"
        },
        "id": "VutLjIrRHPGb",
        "outputId": "7bf7d200-c595-4586-d81a-cebf2c42d93c"
      },
      "outputs": [
        {
          "name": "stdout",
          "output_type": "stream",
          "text": [
            "RoBERTa:\n",
            "Precision: 0.8556430446194225\n",
            "Recall: 0.9819277108433735\n",
            "F1: 0.9144460028050491\n",
            "Accuracy: 87.8%\n"
          ]
        }
      ],
      "source": [
        "print('RoBERTa:')\n",
        "roberta_results = test_model(roberta, df_no_neutral_test)"
      ]
    },
    {
      "cell_type": "code",
      "execution_count": 11,
      "metadata": {
        "colab": {
          "base_uri": "https://localhost:8080/"
        },
        "id": "-LUb4qoCK8Ui",
        "outputId": "34165a3f-323c-46f8-887f-546c07b22018"
      },
      "outputs": [
        {
          "name": "stdout",
          "output_type": "stream",
          "text": [
            "BERT Base:\n",
            "Precision: 0.6150157032509973\n",
            "Recall: 0.6362700493135276\n",
            "F1: 0.6065233072457015\n",
            "Accuracy: 72.2%\n"
          ]
        }
      ],
      "source": [
        "print('BERT Base:')\n",
        "bert_results = test_model(bert_mlm, df_test, False, True)"
      ]
    },
    {
      "cell_type": "code",
      "execution_count": 12,
      "metadata": {
        "colab": {
          "base_uri": "https://localhost:8080/"
        },
        "id": "YJTvyruuLIAq",
        "outputId": "bd6c2c00-a764-4548-d0da-f3f27455149d"
      },
      "outputs": [
        {
          "name": "stdout",
          "output_type": "stream",
          "text": [
            "BERT Twitter:\n",
            "Precision: 0.6186571598336305\n",
            "Recall: 0.5964274382892315\n",
            "F1: 0.6055616511291738\n",
            "Accuracy: 76.8%\n"
          ]
        }
      ],
      "source": [
        "print('BERT Twitter:')\n",
        "bert_twitter_results = test_model(bert_twitter, df_test, False, True)"
      ]
    },
    {
      "cell_type": "code",
      "execution_count": 13,
      "metadata": {
        "colab": {
          "base_uri": "https://localhost:8080/"
        },
        "id": "URPaejHENh5i",
        "outputId": "bfa1dfc7-26b1-4987-9df5-15510263752b"
      },
      "outputs": [
        {
          "name": "stdout",
          "output_type": "stream",
          "text": [
            "Combination Model with neutral\n",
            "Precision: 0.6085221967574909\n",
            "Recall: 0.5630252100840337\n",
            "F1: 0.5732742176625252\n",
            "Accuracy: 80.0%\n"
          ]
        }
      ],
      "source": [
        "def parse_label(result):\n",
        "  label_in = result['label']\n",
        "  label = label_to_class[label_in] if label_in in label_to_class else label_in\n",
        "\n",
        "  return { \n",
        "    'label': label, \n",
        "    'score': result['score'] \n",
        "  }\n",
        "\n",
        "com_res_n = []\n",
        "for i in range(len(bert_twitter_results)):\n",
        "  pos_score = 0\n",
        "  neg_score = 0\n",
        "  neu_score = 0\n",
        "\n",
        "  results = [distil_results[i], roberta_results[i], bert_results[i], bert_twitter_results[i]]\n",
        "  for res in results:\n",
        "    parsed = parse_label(res)\n",
        "    if(parsed['label'] == 'POSITIVE'):\n",
        "      pos_score += parsed['score']\n",
        "    elif parsed['label'] == 'NEGATIVE':\n",
        "      neg_score += parsed['score']\n",
        "    else:\n",
        "      neu_score += parsed['score']\n",
        "\n",
        "  if pos_score > neg_score and pos_score > neu_score:\n",
        "    com_res_n.append('POSITIVE')\n",
        "  elif neg_score > pos_score and neg_score > neu_score:\n",
        "    com_res_n.append('NEGATIVE')\n",
        "  else:\n",
        "    com_res_n.append('NEUTRAL')\n",
        "\n",
        "print('Combination Model with neutral')\n",
        "score_model(com_res_n, df_test.loc[:,'overall'], False)"
      ]
    },
    {
      "cell_type": "code",
      "execution_count": 14,
      "metadata": {
        "colab": {
          "base_uri": "https://localhost:8080/"
        },
        "id": "IFNeitPEsWd_",
        "outputId": "fe84980d-b389-476a-dd74-96f1dca93ef9"
      },
      "outputs": [
        {
          "name": "stdout",
          "output_type": "stream",
          "text": [
            "Combination Model without neutral\n",
            "Precision: 0.8999867663600873\n",
            "Recall: 0.8232620320855615\n",
            "F1: 0.846699662739258\n",
            "Accuracy: 87.4%\n"
          ]
        }
      ],
      "source": [
        "com_res = []\n",
        "for i in range(len(bert_twitter_results)):\n",
        "  pos_score = 0\n",
        "  neg_score = 0\n",
        "\n",
        "  results = [distil_results[i], roberta_results[i]]\n",
        "  for res in results:\n",
        "    if(res['label'] == 'POSITIVE'):\n",
        "      pos_score += res['score']\n",
        "    else :\n",
        "      neg_score += res['score']\n",
        "\n",
        "  if pos_score > neg_score:\n",
        "    com_res.append('POSITIVE')\n",
        "  else:\n",
        "    com_res.append('NEGATIVE')\n",
        "\n",
        "print('Combination Model without neutral')\n",
        "score_model(com_res, df_no_neutral_test.loc[:,'overall'], False)"
      ]
    },
    {
      "cell_type": "code",
      "execution_count": 14,
      "metadata": {
        "id": "2LzUPfqZxHO3"
      },
      "outputs": [],
      "source": []
    }
  ],
  "metadata": {
    "colab": {
      "collapsed_sections": [],
      "provenance": []
    },
    "kernelspec": {
      "display_name": "Python 3.9.6 64-bit",
      "language": "python",
      "name": "python3"
    },
    "language_info": {
      "name": "python",
      "version": "3.9.6"
    },
    "vscode": {
      "interpreter": {
        "hash": "31f2aee4e71d21fbe5cf8b01ff0e069b9275f58929596ceb00d14d90e3e16cd6"
      }
    }
  },
  "nbformat": 4,
  "nbformat_minor": 0
}
